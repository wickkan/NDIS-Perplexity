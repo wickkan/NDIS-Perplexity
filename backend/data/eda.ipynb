{
 "cells": [
  {
   "cell_type": "code",
   "execution_count": 1,
   "id": "d9e07ce8",
   "metadata": {},
   "outputs": [
    {
     "name": "stdout",
     "output_type": "stream",
     "text": [
      "Column headers: ['Support Item Number', 'Support Item Name', 'Registration Group Number', 'Registration Group Name', 'Support Category Number', 'Support Category Number (PACE)', 'Support Category Name', 'Support Category Name (PACE)', 'Unit', 'Quote', 'Start date', 'End Date', 'ACT', 'NSW', 'NT', 'QLD', 'SA', 'TAS', 'VIC', 'WA', 'Remote', 'Very Remote', 'Non-Face-to-Face Support Provision', 'Provider Travel', 'Short Notice Cancellations.', 'NDIA Requested Reports', 'Irregular SIL Supports', 'Type']\n"
     ]
    }
   ],
   "source": [
    "import pandas as pd\n",
    "\n",
    "# Load the Excel file\n",
    "# Replace with your Excel file path\n",
    "file_path = \"NDIS Support Catalogue 2024-25 v1.2.xlsx\"\n",
    "df = pd.read_excel(file_path)\n",
    "\n",
    "# Get the column headers\n",
    "headers = df.columns.tolist()\n",
    "\n",
    "# Print the headers\n",
    "print(\"Column headers:\", headers)"
   ]
  }
 ],
 "metadata": {
  "kernelspec": {
   "display_name": "Python 3",
   "language": "python",
   "name": "python3"
  },
  "language_info": {
   "codemirror_mode": {
    "name": "ipython",
    "version": 3
   },
   "file_extension": ".py",
   "mimetype": "text/x-python",
   "name": "python",
   "nbconvert_exporter": "python",
   "pygments_lexer": "ipython3",
   "version": "3.12.5"
  }
 },
 "nbformat": 4,
 "nbformat_minor": 5
}
